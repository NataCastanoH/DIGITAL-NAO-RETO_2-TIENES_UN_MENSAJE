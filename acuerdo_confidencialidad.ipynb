{
 "cells": [
  {
   "cell_type": "markdown",
   "metadata": {},
   "source": [
    "![title](./logo_nao_digital.png)"
   ]
  },
  {
   "cell_type": "markdown",
   "metadata": {},
   "source": [
    "# **Tienes un mensaje**"
   ]
  },
  {
   "cell_type": "markdown",
   "metadata": {},
   "source": [
    "## Evidencias ciclo ID2"
   ]
  },
  {
   "cell_type": "markdown",
   "metadata": {},
   "source": [
    "*Instrucciones:*\n",
    "\n",
    "\n",
    "Atiende las siguientes indicaciones para completar las evidencias de este primer ciclo de investigación y desarrollo de esta experiencia de aprendizaje.\n",
    "\n",
    "1. Lee detenidamente el reto Tienes un mensaje.\n",
    "\n",
    "2. Desarrolla las evidencias solicitadas para este ciclo ID:\n",
    "* Crea un template de HTML para una tarjeta de felicitación.\n",
    "* Automatiza el envío de correo de cumpleaños con Bash.\n",
    "* Toma como evidencia el enlace al código en GitHub.\n",
    "* Envía y recibe un correo con la tarjeta de felicitación y toma captura de pantalla como evidencia.\n",
    "\n",
    "3. Sube las evidencias a tu espacio en Notion."
   ]
  },
  {
   "cell_type": "markdown",
   "metadata": {},
   "source": [
    "## Etapa 1: instalar e importar librerías de trabajo"
   ]
  },
  {
   "cell_type": "markdown",
   "metadata": {},
   "source": [
    "Primero instalamos e importamos las librerías de trabajo"
   ]
  },
  {
   "cell_type": "code",
   "execution_count": 110,
   "metadata": {},
   "outputs": [
    {
     "name": "stdout",
     "output_type": "stream",
     "text": [
      "Requirement already satisfied: pandas in c:\\users\\natalia\\anaconda3\\lib\\site-packages (2.0.3)Note: you may need to restart the kernel to use updated packages.\n",
      "\n",
      "Requirement already satisfied: python-dateutil>=2.8.2 in c:\\users\\natalia\\appdata\\roaming\\python\\python311\\site-packages (from pandas) (2.8.2)\n",
      "Requirement already satisfied: pytz>=2020.1 in c:\\users\\natalia\\anaconda3\\lib\\site-packages (from pandas) (2022.7)\n",
      "Requirement already satisfied: tzdata>=2022.1 in c:\\users\\natalia\\anaconda3\\lib\\site-packages (from pandas) (2023.3)\n",
      "Requirement already satisfied: numpy>=1.21.0 in c:\\users\\natalia\\anaconda3\\lib\\site-packages (from pandas) (1.24.3)\n",
      "Requirement already satisfied: six>=1.5 in c:\\users\\natalia\\appdata\\roaming\\python\\python311\\site-packages (from python-dateutil>=2.8.2->pandas) (1.16.0)\n"
     ]
    }
   ],
   "source": [
    "%pip install pandas"
   ]
  },
  {
   "cell_type": "code",
   "execution_count": 111,
   "metadata": {},
   "outputs": [],
   "source": [
    "import os\n",
    "import numpy as np\n",
    "import pandas as pd\n",
    "import smtplib\n",
    "import openpyxl\n",
    "import csv\n",
    "import random\n",
    "\n",
    "# Import the email modules we'll need\n",
    "from email.message import EmailMessage\n",
    "# Para la lista de cumpleaños\n",
    "from datetime import datetime, timedelta\n",
    "\n",
    "import warnings\n",
    "warnings.filterwarnings('ignore')"
   ]
  },
  {
   "cell_type": "markdown",
   "metadata": {},
   "source": [
    "## Etapa 2: generar una lista de cumpleaños y completar la CSV"
   ]
  },
  {
   "cell_type": "code",
   "execution_count": 97,
   "metadata": {},
   "outputs": [],
   "source": [
    "# Crear una lista de 500 fechas de nacimiento aleatorias entre 1950-01-01 y 2000-12-31\n",
    "start_date = datetime(1950, 1, 1)\n",
    "end_date = datetime(2006, 12, 31)\n",
    "\n",
    "cumpleanos = [start_date + timedelta(days=random.randint(0, (end_date - start_date).days)) for _ in range(500)]"
   ]
  },
  {
   "cell_type": "code",
   "execution_count": 98,
   "metadata": {},
   "outputs": [
    {
     "data": {
      "text/html": [
       "<div>\n",
       "<style scoped>\n",
       "    .dataframe tbody tr th:only-of-type {\n",
       "        vertical-align: middle;\n",
       "    }\n",
       "\n",
       "    .dataframe tbody tr th {\n",
       "        vertical-align: top;\n",
       "    }\n",
       "\n",
       "    .dataframe thead th {\n",
       "        text-align: right;\n",
       "    }\n",
       "</style>\n",
       "<table border=\"1\" class=\"dataframe\">\n",
       "  <thead>\n",
       "    <tr style=\"text-align: right;\">\n",
       "      <th></th>\n",
       "      <th>fecha_nacimiento</th>\n",
       "    </tr>\n",
       "  </thead>\n",
       "  <tbody>\n",
       "    <tr>\n",
       "      <th>291</th>\n",
       "      <td>1966-08-12</td>\n",
       "    </tr>\n",
       "    <tr>\n",
       "      <th>40</th>\n",
       "      <td>1972-07-30</td>\n",
       "    </tr>\n",
       "    <tr>\n",
       "      <th>72</th>\n",
       "      <td>1974-08-30</td>\n",
       "    </tr>\n",
       "    <tr>\n",
       "      <th>2</th>\n",
       "      <td>2001-04-18</td>\n",
       "    </tr>\n",
       "    <tr>\n",
       "      <th>203</th>\n",
       "      <td>2001-01-22</td>\n",
       "    </tr>\n",
       "    <tr>\n",
       "      <th>317</th>\n",
       "      <td>2005-04-12</td>\n",
       "    </tr>\n",
       "    <tr>\n",
       "      <th>94</th>\n",
       "      <td>2000-10-23</td>\n",
       "    </tr>\n",
       "    <tr>\n",
       "      <th>369</th>\n",
       "      <td>1992-08-21</td>\n",
       "    </tr>\n",
       "    <tr>\n",
       "      <th>252</th>\n",
       "      <td>1974-09-04</td>\n",
       "    </tr>\n",
       "    <tr>\n",
       "      <th>287</th>\n",
       "      <td>1969-08-01</td>\n",
       "    </tr>\n",
       "  </tbody>\n",
       "</table>\n",
       "</div>"
      ],
      "text/plain": [
       "    fecha_nacimiento\n",
       "291       1966-08-12\n",
       "40        1972-07-30\n",
       "72        1974-08-30\n",
       "2         2001-04-18\n",
       "203       2001-01-22\n",
       "317       2005-04-12\n",
       "94        2000-10-23\n",
       "369       1992-08-21\n",
       "252       1974-09-04\n",
       "287       1969-08-01"
      ]
     },
     "execution_count": 98,
     "metadata": {},
     "output_type": "execute_result"
    }
   ],
   "source": [
    "# Crear un DataFrame de pandas con las fechas de nacimiento\n",
    "fecha_nacimiento = pd.DataFrame({'fecha_nacimiento': cumpleanos})\n",
    "fecha_nacimiento.sample(10)"
   ]
  },
  {
   "cell_type": "code",
   "execution_count": 99,
   "metadata": {},
   "outputs": [],
   "source": [
    "# Leer el archivo CSV existente\n",
    "base_de_datos = pd.read_csv('BD_BrokenIA.csv')\n",
    "\n",
    "# Agregar la columna de fechas de nacimiento al DataFrame existente y convertir a datetime\n",
    "# base_de_datos['fecha_nacimiento'] = fecha_nacimiento['fecha_nacimiento']\n",
    "base_de_datos['fecha_nacimiento'] = fecha_nacimiento['fecha_nacimiento']\n",
    "\n",
    "# Ahora tenemos la base de datos generada, podemos guardarla como CSV\n",
    "base_de_datos.to_csv('BD_BrokenIA_cumpleanos.csv', index=False)"
   ]
  },
  {
   "cell_type": "code",
   "execution_count": 100,
   "metadata": {},
   "outputs": [
    {
     "data": {
      "text/html": [
       "<div>\n",
       "<style scoped>\n",
       "    .dataframe tbody tr th:only-of-type {\n",
       "        vertical-align: middle;\n",
       "    }\n",
       "\n",
       "    .dataframe tbody tr th {\n",
       "        vertical-align: top;\n",
       "    }\n",
       "\n",
       "    .dataframe thead th {\n",
       "        text-align: right;\n",
       "    }\n",
       "</style>\n",
       "<table border=\"1\" class=\"dataframe\">\n",
       "  <thead>\n",
       "    <tr style=\"text-align: right;\">\n",
       "      <th></th>\n",
       "      <th>nombre</th>\n",
       "      <th>email</th>\n",
       "      <th>mensaje</th>\n",
       "      <th>fecha_nacimiento</th>\n",
       "    </tr>\n",
       "  </thead>\n",
       "  <tbody>\n",
       "    <tr>\n",
       "      <th>241</th>\n",
       "      <td>PATRICK</td>\n",
       "      <td>patrick@emailbrokenia.com</td>\n",
       "      <td>hoy comienza la mejor semana de tu vida, ¡feli...</td>\n",
       "      <td>1958-08-30</td>\n",
       "    </tr>\n",
       "    <tr>\n",
       "      <th>237</th>\n",
       "      <td>WELINGTON</td>\n",
       "      <td>welington@emailbrokenia.com</td>\n",
       "      <td>hoy comienza la mejor semana de tu vida, ¡feli...</td>\n",
       "      <td>1958-05-28</td>\n",
       "    </tr>\n",
       "    <tr>\n",
       "      <th>93</th>\n",
       "      <td>ADILSON</td>\n",
       "      <td>adilson@emailbrokenia.com</td>\n",
       "      <td>hoy comienza la mejor semana de tu vida, ¡feli...</td>\n",
       "      <td>1951-05-25</td>\n",
       "    </tr>\n",
       "    <tr>\n",
       "      <th>269</th>\n",
       "      <td>MARIANA</td>\n",
       "      <td>mariana@emailbrokenia.com</td>\n",
       "      <td>hoy comienza la mejor semana de tu vida, ¡feli...</td>\n",
       "      <td>2002-02-20</td>\n",
       "    </tr>\n",
       "    <tr>\n",
       "      <th>341</th>\n",
       "      <td>CELIA</td>\n",
       "      <td>celia@emailbrokenia.com</td>\n",
       "      <td>hoy comienza la mejor semana de tu vida, ¡feli...</td>\n",
       "      <td>1991-06-20</td>\n",
       "    </tr>\n",
       "    <tr>\n",
       "      <th>52</th>\n",
       "      <td>SAMUEL</td>\n",
       "      <td>samuel@emailbrokenia.com</td>\n",
       "      <td>hoy comienza la mejor semana de tu vida, ¡feli...</td>\n",
       "      <td>1961-08-18</td>\n",
       "    </tr>\n",
       "    <tr>\n",
       "      <th>91</th>\n",
       "      <td>WESLEY</td>\n",
       "      <td>wesley@emailbrokenia.com</td>\n",
       "      <td>hoy comienza la mejor semana de tu vida, ¡feli...</td>\n",
       "      <td>1957-02-17</td>\n",
       "    </tr>\n",
       "    <tr>\n",
       "      <th>72</th>\n",
       "      <td>GILBERTO</td>\n",
       "      <td>gilberto@emailbrokenia.com</td>\n",
       "      <td>hoy comienza la mejor semana de tu vida, ¡feli...</td>\n",
       "      <td>1974-08-30</td>\n",
       "    </tr>\n",
       "    <tr>\n",
       "      <th>229</th>\n",
       "      <td>VALDOMIRO</td>\n",
       "      <td>valdomiro@emailbrokenia.com</td>\n",
       "      <td>hoy comienza la mejor semana de tu vida, ¡feli...</td>\n",
       "      <td>1966-01-26</td>\n",
       "    </tr>\n",
       "    <tr>\n",
       "      <th>371</th>\n",
       "      <td>LIVIA</td>\n",
       "      <td>livia@emailbrokenia.com</td>\n",
       "      <td>hoy comienza la mejor semana de tu vida, ¡feli...</td>\n",
       "      <td>2002-01-11</td>\n",
       "    </tr>\n",
       "  </tbody>\n",
       "</table>\n",
       "</div>"
      ],
      "text/plain": [
       "        nombre                        email  \\\n",
       "241    PATRICK    patrick@emailbrokenia.com   \n",
       "237  WELINGTON  welington@emailbrokenia.com   \n",
       "93     ADILSON    adilson@emailbrokenia.com   \n",
       "269    MARIANA    mariana@emailbrokenia.com   \n",
       "341      CELIA      celia@emailbrokenia.com   \n",
       "52      SAMUEL     samuel@emailbrokenia.com   \n",
       "91      WESLEY     wesley@emailbrokenia.com   \n",
       "72    GILBERTO   gilberto@emailbrokenia.com   \n",
       "229  VALDOMIRO  valdomiro@emailbrokenia.com   \n",
       "371      LIVIA      livia@emailbrokenia.com   \n",
       "\n",
       "                                               mensaje fecha_nacimiento  \n",
       "241  hoy comienza la mejor semana de tu vida, ¡feli...       1958-08-30  \n",
       "237  hoy comienza la mejor semana de tu vida, ¡feli...       1958-05-28  \n",
       "93   hoy comienza la mejor semana de tu vida, ¡feli...       1951-05-25  \n",
       "269  hoy comienza la mejor semana de tu vida, ¡feli...       2002-02-20  \n",
       "341  hoy comienza la mejor semana de tu vida, ¡feli...       1991-06-20  \n",
       "52   hoy comienza la mejor semana de tu vida, ¡feli...       1961-08-18  \n",
       "91   hoy comienza la mejor semana de tu vida, ¡feli...       1957-02-17  \n",
       "72   hoy comienza la mejor semana de tu vida, ¡feli...       1974-08-30  \n",
       "229  hoy comienza la mejor semana de tu vida, ¡feli...       1966-01-26  \n",
       "371  hoy comienza la mejor semana de tu vida, ¡feli...       2002-01-11  "
      ]
     },
     "execution_count": 100,
     "metadata": {},
     "output_type": "execute_result"
    }
   ],
   "source": [
    "base_de_datos.sample(10)"
   ]
  },
  {
   "cell_type": "code",
   "execution_count": 101,
   "metadata": {},
   "outputs": [
    {
     "data": {
      "text/plain": [
       "nombre                      object\n",
       "email                       object\n",
       "mensaje                     object\n",
       "fecha_nacimiento    datetime64[ns]\n",
       "dtype: object"
      ]
     },
     "execution_count": 101,
     "metadata": {},
     "output_type": "execute_result"
    }
   ],
   "source": [
    "base_de_datos.dtypes"
   ]
  },
  {
   "cell_type": "markdown",
   "metadata": {},
   "source": [
    "## Etapa 3: leer la lista de nombres, correos y fechas del CSV y generar html de felicitación"
   ]
  },
  {
   "cell_type": "code",
   "execution_count": 122,
   "metadata": {},
   "outputs": [
    {
     "name": "stdout",
     "output_type": "stream",
     "text": [
      "Correo enviado a nataliahoyos@gmail.com para GEAN\n"
     ]
    }
   ],
   "source": [
    "# Configuración de la conexión SMTP\n",
    "smtp_server = 'smtp.gmail.com'\n",
    "smtp_port = 587\n",
    "smtp_user = 'nataliahoyos@gmail.com' \n",
    "smtp_password = 'iqpb razm awxa taqo'\n",
    "\n",
    "# Dirección de correo de destino fija\n",
    "correo_destino = 'nataliahoyos@gmail.com'\n",
    "\n",
    "# Leer el archivo CSV\n",
    "fechas_cumpleanos = pd.read_csv('BD_BrokenIA_cumpleanos.csv', parse_dates=['fecha_nacimiento'], date_parser=lambda x: datetime.strptime(x, '%Y-%m-%d'))\n",
    "\n",
    "# Obtener la fecha actual\n",
    "hoy = datetime.now()\n",
    "\n",
    "# Cargar el contenido HTML de la felicitación\n",
    "with open('template_tarjeta_felicitacion.html', 'r') as html_file:\n",
    "    contenido_html = html_file.read()\n",
    "\n",
    "# Bucle for para enviar correos electrónicos\n",
    "for index, row in fechas_cumpleanos.iterrows():\n",
    "    nombre = row['nombre']\n",
    "    fecha_nacimiento = row['fecha_nacimiento']\n",
    "\n",
    "    # Obtén el nombre de la persona desde el CSV\n",
    "    nombre_persona = row['nombre'] \n",
    "\n",
    "    # Obtener el mes y el día de la fecha de nacimiento\n",
    "    mes_nacimiento = fecha_nacimiento.month\n",
    "    dia_nacimiento = fecha_nacimiento.day\n",
    "    \n",
    "    # Comparar la fecha actual con la fecha de nacimiento\n",
    "    if hoy.month == mes_nacimiento and hoy.day == dia_nacimiento:\n",
    "        # Crear un mensaje de correo electrónico personalizado\n",
    "        email_message = EmailMessage()\n",
    "\n",
    "        # Realizar el reemplazo del marcador de posición con el nombre de la persona dentro del bucle\n",
    "        contenido_html_personalizado = contenido_html.replace('{nombre}', nombre_persona)\n",
    "\n",
    "        email_message.set_content(f'¡Feliz cumpleaños, {nombre}!')\n",
    "\n",
    "        email_message['From'] = smtp_user\n",
    "        email_message['To'] = correo_destino\n",
    "        email_message['Subject'] = f'¡Feliz cumpleaños, {nombre}!'\n",
    "\n",
    "        # Agregar el contenido HTML personalizado al mensaje\n",
    "        email_message.add_alternative(contenido_html_personalizado, subtype='html')\n",
    "\n",
    "        # Conectar y autenticar con el servidor SMTP\n",
    "        with smtplib.SMTP(smtp_server, smtp_port) as server:\n",
    "            server.starttls()  # Habilitar TLS si es necesario\n",
    "            server.login(smtp_user, smtp_password)\n",
    "            server.send_message(email_message)\n",
    "\n",
    "        print(f'Correo enviado a {correo_destino} para {nombre}')\n"
   ]
  },
  {
   "cell_type": "markdown",
   "metadata": {},
   "source": [
    "## Etapa 4: Acerca del funcionamiento del código principal: envío de tarjeta de felicitación"
   ]
  },
  {
   "cell_type": "markdown",
   "metadata": {},
   "source": [
    "El código anterior tiene como objetivo enviar correos electrónicos con una felicitación de cumpleaños partir de un archivo CSV y un template en HTML con los siguientes componentes:\n",
    "\n",
    "1. **Configuración de la conexión SMTP**: Aquí se definen las configuraciones necesarias para establecer la conexión con el servidor SMTP. Estos valores son específicos de tu proveedor de correo. En este caso, se configura para Gmail.\n",
    "\n",
    "    - `smtp_server`: La dirección del servidor SMTP de Gmail.\n",
    "    - `smtp_port`: El puerto utilizado para la conexión al servidor SMTP de Gmail.\n",
    "    - `smtp_user`: Tu dirección de correo electrónico desde la cual se enviarán los mensajes.\n",
    "    - `smtp_password`: La contraseña de tu cuenta de correo.\n",
    "\n",
    "2. **Dirección de correo de destino fija**: Esto establece la dirección de correo de destino, que en este caso se mantiene fija como `'nataliahoyos@gmail.com'`. Sin embargo, esto podría cambiarse para enviar correos a diferentes destinatarios.\n",
    "\n",
    "3. **Leer el archivo CSV**: Aquí se lee el archivo CSV llamado `'BD_BrokenIA_cumpleanos.csv'` utilizando pandas. Se utiliza `parse_dates` para convertir la columna 'fecha_nacimiento' en objetos de fecha y hora. También se especifica un `date_parser` para analizar las fechas en el formato correcto.\n",
    "\n",
    "4. **Obtener la fecha actual**: Se utiliza `datetime.now()` para obtener la fecha y hora actual.\n",
    "\n",
    "5. **Cargar el contenido HTML de la felicitación**: Abre y lee el contenido del archivo HTML de la tarjeta de felicitación desde `'template_tarjeta_felicitacion.html'`. El contenido se almacena en la variable `contenido_html`.\n",
    "\n",
    "6. **Obtener el nombre de la persona desde el CSV**: Esto es donde ocurre un error en el código original. El intento de obtener el nombre de la persona está fuera del bucle `for`. La variable `row` no está definida en este punto y, por lo tanto, no se puede acceder al nombre de la persona en este lugar. Esto debería estar dentro del bucle `for` para obtener el nombre de cada persona desde el archivo CSV en cada iteración.\n",
    "\n",
    "7. **Reemplazar el marcador de posición con el nombre de la persona**: Aquí, se reemplaza el marcador de posición `{nombre}` en el contenido HTML con el nombre de la persona. Sin embargo, esto debería realizarse dentro del bucle `for` para cada persona individualmente, pero en el código proporcionado, se hace fuera del bucle, por lo que solo se toma el nombre de una persona (la última en el archivo CSV).\n",
    "\n",
    "8. **Guardar los cambios en el archivo HTML**: Después de reemplazar el marcador de posición por el nombre de la persona, el contenido HTML se guarda en un nuevo archivo llamado `'tarjeta_felicitacion.html'`. Este paso no es necesario para enviar correos electrónicos, ya que solo estás guardando el contenido HTML en un archivo.\n",
    "\n",
    "9. **Bucle `for` para enviar correos electrónicos**: Este bucle `for` itera a través de las filas del DataFrame `fechas_cumpleanos`, que contiene la información de las personas cuyo cumpleaños se celebra. Para cada persona, se verifica si la fecha de nacimiento coincide con la fecha actual.\n",
    "\n",
    "10. **Crear un mensaje de correo electrónico personalizado**: Si la fecha de cumpleaños coincide, se crea un mensaje de correo electrónico personalizado utilizando la biblioteca `EmailMessage`. El contenido del correo electrónico se establece con un saludo de cumpleaños y se especifica la dirección del remitente y del destinatario.\n",
    "\n",
    "11. **Agregar el contenido HTML al mensaje**: Aquí es donde se adjunta el contenido HTML de la tarjeta de felicitación al mensaje de correo electrónico. Sin embargo, dado que se ha reemplazado el marcador de posición por el nombre de la persona fuera del bucle, el nombre en el correo electrónico será el mismo para todos los destinatarios.\n",
    "\n",
    "12. **Conectar y enviar el correo electrónico**: Finalmente, se establece una conexión con el servidor SMTP de Gmail, se inicia la sesión, y se envía el correo electrónico a la dirección de correo de destino. Luego, se muestra un mensaje indicando que se ha enviado el correo."
   ]
  }
 ],
 "metadata": {
  "kernelspec": {
   "display_name": "base",
   "language": "python",
   "name": "python3"
  },
  "language_info": {
   "codemirror_mode": {
    "name": "ipython",
    "version": 3
   },
   "file_extension": ".py",
   "mimetype": "text/x-python",
   "name": "python",
   "nbconvert_exporter": "python",
   "pygments_lexer": "ipython3",
   "version": "3.11.4"
  }
 },
 "nbformat": 4,
 "nbformat_minor": 2
}
